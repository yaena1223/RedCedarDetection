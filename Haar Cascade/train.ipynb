{
 "cells": [
  {
   "cell_type": "code",
   "execution_count": null,
   "metadata": {},
   "outputs": [],
   "source": [
    "import os\n",
    "import cv2\n",
    "os.system(\"opencv_createsamples -info './txt/positive.txt -w 24 -h 24 -num 2500 -vec './vec/roboflow_redcedar.vec'\")"
   ]
  },
  {
   "cell_type": "code",
   "execution_count": null,
   "metadata": {},
   "outputs": [],
   "source": [
    "import os\n",
    "import cv2\n",
    "os.system(\"opencv_traincascade -data './xml/roboflow_redcedar' -vec './vec/roboflow redcedar.vec' -bg negative.txt -w 24 -h 24 -numPos 2000 -numNeg 2000 -numStages 20 -precalcValBufSize 16384 -precalcIdxBufsize 16384\")"
   ]
  }
 ],
 "metadata": {
  "language_info": {
   "name": "python"
  },
  "orig_nbformat": 4
 },
 "nbformat": 4,
 "nbformat_minor": 2
}
